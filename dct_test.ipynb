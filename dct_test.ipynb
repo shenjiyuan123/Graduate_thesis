{
 "cells": [
  {
   "cell_type": "markdown",
   "metadata": {},
   "source": [
    "## DCT transformation"
   ]
  },
  {
   "cell_type": "code",
   "execution_count": 1,
   "metadata": {},
   "outputs": [],
   "source": [
    "import cv2 \n",
    "import torch\n",
    "import numpy as np\n",
    "\n",
    "def doDct(inputMatrix):\n",
    "    fltMatrix = np.float32(inputMatrix)/255.0\n",
    "    fltDct = cv2.dct(fltMatrix)\n",
    "    return np.uint8(fltDct * 255)\n",
    "\n",
    "def use_dct(image_path,out_path):\n",
    "    raw_img = cv2.imread(image_path)\n",
    "    dct_img1 = doDct(raw_img[:,:,0])[:,:,np.newaxis]\n",
    "    dct_img2 = doDct(raw_img[:,:,1])[:,:,np.newaxis]\n",
    "    dct_img3 = doDct(raw_img[:,:,2])[:,:,np.newaxis]\n",
    "    dct_img = np.concatenate((dct_img1,dct_img2,dct_img3),axis=2)\n",
    "    cv2.imwrite(out_path,dct_img)\n",
    "    # raw_img = torch.from_numpy(raw_img)\n",
    "    # tmp = torch.fft.fftn(raw_img)\n",
    "    # cv2.imwrite(out_path,np.uint8(tmp.numpy()*255))"
   ]
  },
  {
   "cell_type": "code",
   "execution_count": 2,
   "metadata": {},
   "outputs": [],
   "source": [
    "use_dct('/home/shenjiyuan/deepfake/Deepfake_datasets/mspie_stylegan2_img/mspie_gen_1.png','a.png')\n",
    "use_dct('/home/shenjiyuan/deepfake/Deepfake_datasets/stylegan_img/style_gen_1.png','b.png')\n",
    "use_dct('/home/shenjiyuan/deepfake/Deepfake_datasets/wgan_gp_img/wgangp_gen_1.png','c.png')\n",
    "use_dct('/home/shenjiyuan/deepfake/Deepfake_datasets/DeepFakeDetection/imgs/1.png','d.png')\n",
    "use_dct('/home/shenjiyuan/deepfake/FFHQ_raw/00013.png','true.png')"
   ]
  },
  {
   "cell_type": "code",
   "execution_count": null,
   "metadata": {},
   "outputs": [],
   "source": []
  },
  {
   "cell_type": "code",
   "execution_count": null,
   "metadata": {},
   "outputs": [],
   "source": []
  },
  {
   "cell_type": "code",
   "execution_count": null,
   "metadata": {},
   "outputs": [],
   "source": []
  },
  {
   "cell_type": "code",
   "execution_count": null,
   "metadata": {},
   "outputs": [],
   "source": []
  }
 ],
 "metadata": {
  "interpreter": {
   "hash": "3369c9783906291a26738bfbe38190eb6c5213d1fde92757fb9799a79ab2cd7f"
  },
  "kernelspec": {
   "display_name": "Python 3.9.7 ('base')",
   "language": "python",
   "name": "python3"
  },
  "language_info": {
   "codemirror_mode": {
    "name": "ipython",
    "version": 3
   },
   "file_extension": ".py",
   "mimetype": "text/x-python",
   "name": "python",
   "nbconvert_exporter": "python",
   "pygments_lexer": "ipython3",
   "version": "3.9.7"
  },
  "orig_nbformat": 4
 },
 "nbformat": 4,
 "nbformat_minor": 2
}
