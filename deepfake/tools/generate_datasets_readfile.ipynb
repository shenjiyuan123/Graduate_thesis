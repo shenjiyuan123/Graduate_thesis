{
 "cells": [
  {
   "cell_type": "code",
   "execution_count": 1,
   "metadata": {},
   "outputs": [],
   "source": [
    "import os\n"
   ]
  },
  {
   "cell_type": "markdown",
   "metadata": {},
   "source": [
    "# Make datasets txt\n",
    "### 0:real, 1:fake, 2:editable"
   ]
  },
  {
   "cell_type": "markdown",
   "metadata": {},
   "source": [
    "### This version has the leakage problem. Use the next section one."
   ]
  },
  {
   "cell_type": "markdown",
   "metadata": {},
   "source": [
    "### train"
   ]
  },
  {
   "cell_type": "code",
   "execution_count": 2,
   "metadata": {},
   "outputs": [],
   "source": [
    "# real\n",
    "list_real = os.listdir('/home/shenjiyuan/deepfake/FFHQ_raw')\n",
    "list_real.sort(key=lambda x:int(x[:-4]))\n",
    "# fake\n",
    "list_fake1 = os.listdir('/home/shenjiyuan/deepfake/Deepfake_datasets/mspie_stylegan2_img')\n",
    "list_fake2 = os.listdir('/home/shenjiyuan/deepfake/Deepfake_datasets/stylegan_img')\n",
    "list_fake3 = os.listdir('/home/shenjiyuan/deepfake/Deepfake_datasets/wgan_gp_img')\n",
    "list_fake1.sort(key=lambda x:int(x[10:-4]))\n",
    "list_fake2.sort(key=lambda x:int(x[10:-4]))\n",
    "list_fake3.sort(key=lambda x:int(x[11:-4]))\n",
    "# editable\n",
    "list_edit2 = os.listdir('/home/shenjiyuan/deepfake/Deepfake_datasets/Face2Face/imgs')\n",
    "list_edit3 = os.listdir('/home/shenjiyuan/deepfake/Deepfake_datasets/FaceSwap/imgs')\n",
    "list_edit2.sort(key=lambda x:int(x[:-4]))\n",
    "list_edit3.sort(key=lambda x:int(x[:-4]))"
   ]
  },
  {
   "cell_type": "code",
   "execution_count": 3,
   "metadata": {},
   "outputs": [],
   "source": [
    "# write\n",
    "with open('/home/shenjiyuan/deepfake/deepfake/datasets/train_data_4.txt', 'w+') as f:\n",
    "    for i in list_real[:15000]:\n",
    "        f.write(os.path.join('/home/shenjiyuan/deepfake/FFHQ_raw',i))\n",
    "        f.write('\\t')\n",
    "        f.write('0')\n",
    "        f.write('\\n')\n",
    "    for i in list_fake1[:8000]:\n",
    "        f.write(os.path.join('/home/shenjiyuan/deepfake/Deepfake_datasets/mspie_stylegan2_img',i))\n",
    "        f.write('\\t')\n",
    "        f.write('1')\n",
    "        f.write('\\n')\n",
    "    for i in list_fake2[:8000]:\n",
    "        f.write(os.path.join('/home/shenjiyuan/deepfake/Deepfake_datasets/stylegan_img',i))\n",
    "        f.write('\\t')\n",
    "        f.write('1')\n",
    "        f.write('\\n')\n",
    "    for i in list_fake3[:8000]:\n",
    "        f.write(os.path.join('/home/shenjiyuan/deepfake/Deepfake_datasets/wgan_gp_img',i))\n",
    "        f.write('\\t')\n",
    "        f.write('1')\n",
    "        f.write('\\n')\n",
    "    for i in list_edit2[:794]:\n",
    "        f.write(os.path.join('/home/shenjiyuan/deepfake/Deepfake_datasets/Face2Face/imgs',i))\n",
    "        f.write('\\t')\n",
    "        f.write('2')\n",
    "        f.write('\\n')\n",
    "    for i in list_edit3[:785]:\n",
    "        f.write(os.path.join('/home/shenjiyuan/deepfake/Deepfake_datasets/FaceSwap/imgs',i))\n",
    "        f.write('\\t')\n",
    "        f.write('2')\n",
    "        f.write('\\n')\n",
    "\n"
   ]
  },
  {
   "cell_type": "code",
   "execution_count": 4,
   "metadata": {},
   "outputs": [
    {
     "data": {
      "text/plain": [
       "1163"
      ]
     },
     "execution_count": 4,
     "metadata": {},
     "output_type": "execute_result"
    }
   ],
   "source": [
    "len(list_edit3)"
   ]
  },
  {
   "cell_type": "code",
   "execution_count": 5,
   "metadata": {},
   "outputs": [],
   "source": [
    "img_list = []\n",
    "with open('/home/shenjiyuan/deepfake/deepfake/datasets/train_data_4.txt', 'r') as f:\n",
    "    for line in f.readlines():\n",
    "        img_list.append(line.strip().split('\\t'))"
   ]
  },
  {
   "cell_type": "code",
   "execution_count": 6,
   "metadata": {},
   "outputs": [
    {
     "data": {
      "text/plain": [
       "40579"
      ]
     },
     "execution_count": 6,
     "metadata": {},
     "output_type": "execute_result"
    }
   ],
   "source": [
    "len(img_list)"
   ]
  },
  {
   "cell_type": "markdown",
   "metadata": {},
   "source": [
    "### eval"
   ]
  },
  {
   "cell_type": "code",
   "execution_count": 7,
   "metadata": {},
   "outputs": [],
   "source": [
    "# write\n",
    "with open('/home/shenjiyuan/deepfake/deepfake/datasets/eval_data_4.txt', 'w+') as f:\n",
    "    for i in list_real[15000:20000]:\n",
    "        f.write(os.path.join('/home/shenjiyuan/deepfake/FFHQ_raw',i))\n",
    "        f.write('\\t')\n",
    "        f.write('0')\n",
    "        f.write('\\n')\n",
    "    for i in list_fake1[8000:]:\n",
    "        f.write(os.path.join('/home/shenjiyuan/deepfake/Deepfake_datasets/mspie_stylegan2_img',i))\n",
    "        f.write('\\t')\n",
    "        f.write('1')\n",
    "        f.write('\\n')\n",
    "    for i in list_fake2[8000:]:\n",
    "        f.write(os.path.join('/home/shenjiyuan/deepfake/Deepfake_datasets/stylegan_img',i))\n",
    "        f.write('\\t')\n",
    "        f.write('1')\n",
    "        f.write('\\n')\n",
    "    for i in list_fake3[8000:]:\n",
    "        f.write(os.path.join('/home/shenjiyuan/deepfake/Deepfake_datasets/wgan_gp_img',i))\n",
    "        f.write('\\t')\n",
    "        f.write('1')\n",
    "        f.write('\\n')\n",
    "    for i in list_edit2[794:]:\n",
    "        f.write(os.path.join('/home/shenjiyuan/deepfake/Deepfake_datasets/Face2Face/imgs',i))\n",
    "        f.write('\\t')\n",
    "        f.write('2')\n",
    "        f.write('\\n')\n",
    "    for i in list_edit3[785:]:\n",
    "        f.write(os.path.join('/home/shenjiyuan/deepfake/Deepfake_datasets/FaceSwap/imgs',i))\n",
    "        f.write('\\t')\n",
    "        f.write('2')\n",
    "        f.write('\\n')\n",
    "\n"
   ]
  },
  {
   "cell_type": "code",
   "execution_count": 8,
   "metadata": {},
   "outputs": [
    {
     "name": "stdout",
     "output_type": "stream",
     "text": [
      "11707\n"
     ]
    }
   ],
   "source": [
    "img_list = []\n",
    "with open('/home/shenjiyuan/deepfake/deepfake/datasets/eval_data_4.txt', 'r') as f:\n",
    "    for line in f.readlines():\n",
    "        img_list.append(line.strip().split('\\t'))\n",
    "print(len(img_list))"
   ]
  },
  {
   "cell_type": "markdown",
   "metadata": {},
   "source": [
    "# Make datasets with mask"
   ]
  },
  {
   "cell_type": "markdown",
   "metadata": {},
   "source": [
    "### train"
   ]
  },
  {
   "cell_type": "code",
   "execution_count": 5,
   "metadata": {},
   "outputs": [],
   "source": [
    "# real\n",
    "list_real = os.listdir('/home/shenjiyuan/deepfake/FFHQ_raw')\n",
    "list_real.sort(key=lambda x:int(x[:-4]))\n",
    "# fake\n",
    "list_fake1 = os.listdir('/home/shenjiyuan/deepfake/Deepfake_datasets/mspie_stylegan2_img')\n",
    "list_fake2 = os.listdir('/home/shenjiyuan/deepfake/Deepfake_datasets/stylegan_img')\n",
    "list_fake3 = os.listdir('/home/shenjiyuan/deepfake/Deepfake_datasets/wgan_gp_img')\n",
    "list_fake1.sort(key=lambda x:int(x[10:-4]))\n",
    "list_fake2.sort(key=lambda x:int(x[10:-4]))\n",
    "list_fake3.sort(key=lambda x:int(x[11:-4]))\n",
    "# editable\n",
    "list_edit2 = os.listdir('/home/shenjiyuan/deepfake/Deepfake_datasets/Face2Face/imgs')\n",
    "list_edit3 = os.listdir('/home/shenjiyuan/deepfake/Deepfake_datasets/FaceSwap/imgs')\n",
    "list_edit2.sort(key=lambda x:int(x[:-4]))\n",
    "list_edit3.sort(key=lambda x:int(x[:-4]))"
   ]
  },
  {
   "cell_type": "code",
   "execution_count": 16,
   "metadata": {},
   "outputs": [],
   "source": [
    "# write\n",
    "with open('/home/shenjiyuan/deepfake/deepfake/datasets/train_data_seg_2.txt', 'w+') as f:\n",
    "    for i in list_real[:15000]:\n",
    "        f.write(os.path.join('/home/shenjiyuan/deepfake/FFHQ_raw',i))\n",
    "        f.write('\\t')\n",
    "        f.write('/home/shenjiyuan/deepfake/real.png')\n",
    "        f.write('\\t')\n",
    "        f.write('0')\n",
    "        f.write('\\n')\n",
    "    for i in list_fake1[:8000]:\n",
    "        f.write(os.path.join('/home/shenjiyuan/deepfake/Deepfake_datasets/mspie_stylegan2_img',i))\n",
    "        f.write('\\t')\n",
    "        f.write('/home/shenjiyuan/deepfake/fake.png')\n",
    "        f.write('\\t')\n",
    "        f.write('1')\n",
    "        f.write('\\n')\n",
    "    for i in list_fake2[:8000]:\n",
    "        f.write(os.path.join('/home/shenjiyuan/deepfake/Deepfake_datasets/stylegan_img',i))\n",
    "        f.write('\\t')\n",
    "        f.write('/home/shenjiyuan/deepfake/fake.png')\n",
    "        f.write('\\t')\n",
    "        f.write('1')\n",
    "        f.write('\\n')\n",
    "    for i in list_fake3[:8000]:\n",
    "        f.write(os.path.join('/home/shenjiyuan/deepfake/Deepfake_datasets/wgan_gp_img',i))\n",
    "        f.write('\\t')\n",
    "        f.write('/home/shenjiyuan/deepfake/fake.png')\n",
    "        f.write('\\t')\n",
    "        f.write('1')\n",
    "        f.write('\\n')\n",
    "    for i in list_edit2[:794]:\n",
    "        f.write(os.path.join('/home/shenjiyuan/deepfake/Deepfake_datasets/Face2Face/imgs',i))\n",
    "        f.write('\\t')\n",
    "        f.write(os.path.join('/home/shenjiyuan/deepfake/Deepfake_datasets/Face2Face/masks',i))\n",
    "        f.write('\\t')\n",
    "        f.write('2')\n",
    "        f.write('\\n')\n",
    "    for i in list_edit3[:785]:\n",
    "        f.write(os.path.join('/home/shenjiyuan/deepfake/Deepfake_datasets/FaceSwap/imgs',i))\n",
    "        f.write('\\t')\n",
    "        f.write(os.path.join('/home/shenjiyuan/deepfake/Deepfake_datasets/FaceSwap/masks',i))\n",
    "        f.write('\\t')\n",
    "        f.write('2')\n",
    "        f.write('\\n')\n",
    "\n"
   ]
  },
  {
   "cell_type": "markdown",
   "metadata": {},
   "source": [
    "### eval"
   ]
  },
  {
   "cell_type": "code",
   "execution_count": 17,
   "metadata": {},
   "outputs": [],
   "source": [
    "# write\n",
    "with open('/home/shenjiyuan/deepfake/deepfake/datasets/eval_data_seg_2.txt', 'w+') as f:\n",
    "    for i in list_real[15000:20000]:\n",
    "        f.write(os.path.join('/home/shenjiyuan/deepfake/FFHQ_raw',i))\n",
    "        f.write('\\t')\n",
    "        f.write('/home/shenjiyuan/deepfake/real.png')\n",
    "        f.write('\\t')\n",
    "        f.write('0')\n",
    "        f.write('\\n')\n",
    "    for i in list_fake1[8000:]:\n",
    "        f.write(os.path.join('/home/shenjiyuan/deepfake/Deepfake_datasets/mspie_stylegan2_img',i))\n",
    "        f.write('\\t')\n",
    "        f.write('/home/shenjiyuan/deepfake/fake.png')\n",
    "        f.write('\\t')\n",
    "        f.write('1')\n",
    "        f.write('\\n')\n",
    "    for i in list_fake2[8000:]:\n",
    "        f.write(os.path.join('/home/shenjiyuan/deepfake/Deepfake_datasets/stylegan_img',i))\n",
    "        f.write('\\t')\n",
    "        f.write('/home/shenjiyuan/deepfake/fake.png')\n",
    "        f.write('\\t')\n",
    "        f.write('1')\n",
    "        f.write('\\n')\n",
    "    for i in list_fake3[8000:]:\n",
    "        f.write(os.path.join('/home/shenjiyuan/deepfake/Deepfake_datasets/wgan_gp_img',i))\n",
    "        f.write('\\t')\n",
    "        f.write('/home/shenjiyuan/deepfake/fake.png')\n",
    "        f.write('\\t')\n",
    "        f.write('1')\n",
    "        f.write('\\n')\n",
    "    for i in list_edit2[794:]:\n",
    "        f.write(os.path.join('/home/shenjiyuan/deepfake/Deepfake_datasets/Face2Face/imgs',i))\n",
    "        f.write('\\t')\n",
    "        f.write(os.path.join('/home/shenjiyuan/deepfake/Deepfake_datasets/Face2Face/masks',i))\n",
    "        f.write('\\t')\n",
    "        f.write('2')\n",
    "        f.write('\\n')\n",
    "    for i in list_edit3[785:]:\n",
    "        f.write(os.path.join('/home/shenjiyuan/deepfake/Deepfake_datasets/FaceSwap/imgs',i))\n",
    "        f.write('\\t')\n",
    "        f.write(os.path.join('/home/shenjiyuan/deepfake/Deepfake_datasets/FaceSwap/masks',i))\n",
    "        f.write('\\t')\n",
    "        f.write('2')\n",
    "        f.write('\\n')\n",
    "\n"
   ]
  },
  {
   "cell_type": "code",
   "execution_count": null,
   "metadata": {},
   "outputs": [],
   "source": []
  },
  {
   "cell_type": "code",
   "execution_count": null,
   "metadata": {},
   "outputs": [],
   "source": []
  }
 ],
 "metadata": {
  "interpreter": {
   "hash": "3369c9783906291a26738bfbe38190eb6c5213d1fde92757fb9799a79ab2cd7f"
  },
  "kernelspec": {
   "display_name": "Python 3.9.7 ('base')",
   "language": "python",
   "name": "python3"
  },
  "language_info": {
   "codemirror_mode": {
    "name": "ipython",
    "version": 3
   },
   "file_extension": ".py",
   "mimetype": "text/x-python",
   "name": "python",
   "nbconvert_exporter": "python",
   "pygments_lexer": "ipython3",
   "version": "3.9.7"
  },
  "orig_nbformat": 4
 },
 "nbformat": 4,
 "nbformat_minor": 2
}
