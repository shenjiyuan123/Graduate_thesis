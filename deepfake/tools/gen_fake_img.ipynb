{
 "cells": [
  {
   "cell_type": "code",
   "execution_count": 1,
   "metadata": {},
   "outputs": [],
   "source": [
    "import numpy as np\n",
    "import cv2\n",
    "import mmcv\n",
    "import os\n",
    "from mmgen.apis import init_model, sample_unconditional_model, sample_img2img_model\n",
    "from torchvision import utils"
   ]
  },
  {
   "cell_type": "markdown",
   "metadata": {},
   "source": [
    "# StyleGAN v1 \n",
    "\n",
    "10000 generated imgs"
   ]
  },
  {
   "cell_type": "code",
   "execution_count": 8,
   "metadata": {},
   "outputs": [
    {
     "name": "stdout",
     "output_type": "stream",
     "text": [
      "load checkpoint from local path: checkpoint/styleganv1_ffhq_256.pth\n"
     ]
    },
    {
     "name": "stderr",
     "output_type": "stream",
     "text": [
      "2022-03-27 14:47:49,194 - mmgen - INFO - Switch to evaluation style mode: single\n",
      "2022-03-27 14:47:49,196 - mmgen - INFO - Switch to evaluation style mode: single\n"
     ]
    }
   ],
   "source": [
    "config_file = 'mmgeneration/configs/styleganv1/styleganv1_ffhq_256_g8_25Mimg.py'\n",
    "checkpoint_file = 'checkpoint/styleganv1_ffhq_256.pth'\n",
    "\n",
    "device = 'cuda:0'\n",
    "model = init_model(config_file, checkpoint_file, device)\n"
   ]
  },
  {
   "cell_type": "code",
   "execution_count": 26,
   "metadata": {},
   "outputs": [
    {
     "name": "stdout",
     "output_type": "stream",
     "text": [
      "Finish 0.\n",
      "Finish 1.\n",
      "Finish 2.\n",
      "Finish 3.\n",
      "Finish 4.\n",
      "Finish 5.\n",
      "Finish 6.\n",
      "Finish 7.\n",
      "Finish 8.\n",
      "Finish 9.\n",
      "Finish 10.\n",
      "Finish 11.\n",
      "Finish 12.\n",
      "Finish 13.\n",
      "Finish 14.\n",
      "Finish 15.\n",
      "Finish 16.\n",
      "Finish 17.\n",
      "Finish 18.\n",
      "Finish 19.\n",
      "Finish 20.\n",
      "Finish 21.\n",
      "Finish 22.\n",
      "Finish 23.\n",
      "Finish 24.\n",
      "Finish 25.\n",
      "Finish 26.\n",
      "Finish 27.\n",
      "Finish 28.\n",
      "Finish 29.\n",
      "Finish 30.\n",
      "Finish 31.\n",
      "Finish 32.\n",
      "Finish 33.\n",
      "Finish 34.\n",
      "Finish 35.\n",
      "Finish 36.\n",
      "Finish 37.\n",
      "Finish 38.\n",
      "Finish 39.\n",
      "Finish 40.\n",
      "Finish 41.\n",
      "Finish 42.\n",
      "Finish 43.\n",
      "Finish 44.\n",
      "Finish 45.\n",
      "Finish 46.\n",
      "Finish 47.\n",
      "Finish 48.\n",
      "Finish 49.\n",
      "Finish 50.\n",
      "Finish 51.\n",
      "Finish 52.\n",
      "Finish 53.\n",
      "Finish 54.\n",
      "Finish 55.\n",
      "Finish 56.\n",
      "Finish 57.\n",
      "Finish 58.\n",
      "Finish 59.\n",
      "Finish 60.\n",
      "Finish 61.\n",
      "Finish 62.\n",
      "Finish 63.\n",
      "Finish 64.\n",
      "Finish 65.\n",
      "Finish 66.\n",
      "Finish 67.\n",
      "Finish 68.\n",
      "Finish 69.\n",
      "Finish 70.\n",
      "Finish 71.\n",
      "Finish 72.\n",
      "Finish 73.\n",
      "Finish 74.\n",
      "Finish 75.\n",
      "Finish 76.\n",
      "Finish 77.\n",
      "Finish 78.\n",
      "Finish 79.\n",
      "Finish 80.\n",
      "Finish 81.\n",
      "Finish 82.\n",
      "Finish 83.\n",
      "Finish 84.\n",
      "Finish 85.\n",
      "Finish 86.\n",
      "Finish 87.\n",
      "Finish 88.\n",
      "Finish 89.\n",
      "Finish 90.\n",
      "Finish 91.\n",
      "Finish 92.\n",
      "Finish 93.\n",
      "Finish 94.\n",
      "Finish 95.\n",
      "Finish 96.\n",
      "Finish 97.\n",
      "Finish 98.\n",
      "Finish 99.\n",
      "Over!\n"
     ]
    }
   ],
   "source": [
    "steps = 100\n",
    "for i in range(steps):\n",
    "    fake_imgs = sample_unconditional_model(model, steps)\n",
    "    results = (fake_imgs[:, [2, 1, 0]] + 1.) / 2.\n",
    "    for j in range(steps): \n",
    "        imgpath = 'style_gen_' + str(i*100+j) + '.png'\n",
    "        filepath = os.path.join('stylegan_img', imgpath)\n",
    "        utils.save_image(results[j], filepath, nrow=1, padding=0)\n",
    "    print(f'Finish {i}.')\n",
    "print(f'Over!')"
   ]
  },
  {
   "cell_type": "markdown",
   "metadata": {},
   "source": [
    "# WGAN-GP\n",
    "10000 generated imgs"
   ]
  },
  {
   "cell_type": "code",
   "execution_count": 11,
   "metadata": {},
   "outputs": [
    {
     "name": "stdout",
     "output_type": "stream",
     "text": [
      "load checkpoint from local path: checkpoint/wgangp_GN_celeba.pth\n"
     ]
    }
   ],
   "source": [
    "config_file = 'mmgeneration/configs/wgan-gp/wgangp_GN_celeba-cropped_128_b64x1_160kiter.py'\n",
    "checkpoint_file = 'checkpoint/wgangp_GN_celeba.pth'\n",
    "\n",
    "device = 'cuda:0'\n",
    "model = init_model(config_file, checkpoint_file, device)"
   ]
  },
  {
   "cell_type": "code",
   "execution_count": 13,
   "metadata": {},
   "outputs": [
    {
     "name": "stdout",
     "output_type": "stream",
     "text": [
      "Finish 0.\n",
      "Finish 1.\n",
      "Finish 2.\n",
      "Finish 3.\n",
      "Finish 4.\n",
      "Finish 5.\n",
      "Finish 6.\n",
      "Finish 7.\n",
      "Finish 8.\n",
      "Finish 9.\n",
      "Finish 10.\n",
      "Finish 11.\n",
      "Finish 12.\n",
      "Finish 13.\n",
      "Finish 14.\n",
      "Finish 15.\n",
      "Finish 16.\n",
      "Finish 17.\n",
      "Finish 18.\n",
      "Finish 19.\n",
      "Finish 20.\n",
      "Finish 21.\n",
      "Finish 22.\n",
      "Finish 23.\n",
      "Finish 24.\n",
      "Finish 25.\n",
      "Finish 26.\n",
      "Finish 27.\n",
      "Finish 28.\n",
      "Finish 29.\n",
      "Finish 30.\n",
      "Finish 31.\n",
      "Finish 32.\n",
      "Finish 33.\n",
      "Finish 34.\n",
      "Finish 35.\n",
      "Finish 36.\n",
      "Finish 37.\n",
      "Finish 38.\n",
      "Finish 39.\n",
      "Finish 40.\n",
      "Finish 41.\n",
      "Finish 42.\n",
      "Finish 43.\n",
      "Finish 44.\n",
      "Finish 45.\n",
      "Finish 46.\n",
      "Finish 47.\n",
      "Finish 48.\n",
      "Finish 49.\n",
      "Finish 50.\n",
      "Finish 51.\n",
      "Finish 52.\n",
      "Finish 53.\n",
      "Finish 54.\n",
      "Finish 55.\n",
      "Finish 56.\n",
      "Finish 57.\n",
      "Finish 58.\n",
      "Finish 59.\n",
      "Finish 60.\n",
      "Finish 61.\n",
      "Finish 62.\n",
      "Finish 63.\n",
      "Finish 64.\n",
      "Finish 65.\n",
      "Finish 66.\n",
      "Finish 67.\n",
      "Finish 68.\n",
      "Finish 69.\n",
      "Finish 70.\n",
      "Finish 71.\n",
      "Finish 72.\n",
      "Finish 73.\n",
      "Finish 74.\n",
      "Finish 75.\n",
      "Finish 76.\n",
      "Finish 77.\n",
      "Finish 78.\n",
      "Finish 79.\n",
      "Finish 80.\n",
      "Finish 81.\n",
      "Finish 82.\n",
      "Finish 83.\n",
      "Finish 84.\n",
      "Finish 85.\n",
      "Finish 86.\n",
      "Finish 87.\n",
      "Finish 88.\n",
      "Finish 89.\n",
      "Finish 90.\n",
      "Finish 91.\n",
      "Finish 92.\n",
      "Finish 93.\n",
      "Finish 94.\n",
      "Finish 95.\n",
      "Finish 96.\n",
      "Finish 97.\n",
      "Finish 98.\n",
      "Finish 99.\n",
      "Over!\n"
     ]
    }
   ],
   "source": [
    "steps = 100\n",
    "for i in range(steps):\n",
    "    fake_imgs = sample_unconditional_model(model, steps, sample_model='orig')\n",
    "    results = (fake_imgs[:, [2, 1, 0]] + 1.) / 2.\n",
    "    for j in range(steps): \n",
    "        imgpath = 'wgangp_gen_' + str(i*100+j) + '.png'\n",
    "        filepath = os.path.join('wgan_gp_img', imgpath)\n",
    "        utils.save_image(results[j], filepath, nrow=1, padding=0)\n",
    "    print(f'Finish {i}.')\n",
    "print(f'Over!')"
   ]
  },
  {
   "cell_type": "markdown",
   "metadata": {},
   "source": [
    "# Positional Encoding in GANs\n",
    "ms-pie_stylegan2_c2_config-f\n",
    "\n",
    "5000 generated imgs"
   ]
  },
  {
   "cell_type": "code",
   "execution_count": 14,
   "metadata": {},
   "outputs": [
    {
     "name": "stdout",
     "output_type": "stream",
     "text": [
      "load checkpoint from local path: checkpoint/mspie-stylegan2_c2.pth\n"
     ]
    },
    {
     "name": "stderr",
     "output_type": "stream",
     "text": [
      "2022-03-27 15:13:48,972 - mmgen - INFO - Switch to evaluation style mode: single\n",
      "2022-03-27 15:13:48,977 - mmgen - INFO - Switch to evaluation style mode: single\n"
     ]
    }
   ],
   "source": [
    "config_file = 'mmgeneration/configs/positional_encoding_in_gans/mspie-stylegan2_c2_config-f_ffhq_256-512_b3x8_1100k.py'\n",
    "checkpoint_file = 'checkpoint/mspie-stylegan2_c2.pth'\n",
    "\n",
    "device = 'cuda:0'\n",
    "model = init_model(config_file, checkpoint_file, device)"
   ]
  },
  {
   "cell_type": "code",
   "execution_count": 15,
   "metadata": {},
   "outputs": [
    {
     "name": "stdout",
     "output_type": "stream",
     "text": [
      "Finish 0.\n",
      "Finish 1.\n",
      "Finish 2.\n",
      "Finish 3.\n",
      "Finish 4.\n",
      "Finish 5.\n",
      "Finish 6.\n",
      "Finish 7.\n",
      "Finish 8.\n",
      "Finish 9.\n",
      "Finish 10.\n",
      "Finish 11.\n",
      "Finish 12.\n",
      "Finish 13.\n",
      "Finish 14.\n",
      "Finish 15.\n",
      "Finish 16.\n",
      "Finish 17.\n",
      "Finish 18.\n",
      "Finish 19.\n",
      "Finish 20.\n",
      "Finish 21.\n",
      "Finish 22.\n",
      "Finish 23.\n",
      "Finish 24.\n",
      "Finish 25.\n",
      "Finish 26.\n",
      "Finish 27.\n",
      "Finish 28.\n",
      "Finish 29.\n",
      "Finish 30.\n",
      "Finish 31.\n",
      "Finish 32.\n",
      "Finish 33.\n",
      "Finish 34.\n",
      "Finish 35.\n",
      "Finish 36.\n",
      "Finish 37.\n",
      "Finish 38.\n",
      "Finish 39.\n",
      "Finish 40.\n",
      "Finish 41.\n",
      "Finish 42.\n",
      "Finish 43.\n",
      "Finish 44.\n",
      "Finish 45.\n",
      "Finish 46.\n",
      "Finish 47.\n",
      "Finish 48.\n",
      "Finish 49.\n",
      "Finish 50.\n",
      "Finish 51.\n",
      "Finish 52.\n",
      "Finish 53.\n",
      "Finish 54.\n",
      "Finish 55.\n",
      "Finish 56.\n",
      "Finish 57.\n",
      "Finish 58.\n",
      "Finish 59.\n",
      "Finish 60.\n",
      "Finish 61.\n",
      "Finish 62.\n",
      "Finish 63.\n",
      "Finish 64.\n",
      "Finish 65.\n",
      "Finish 66.\n",
      "Finish 67.\n",
      "Finish 68.\n",
      "Finish 69.\n",
      "Finish 70.\n",
      "Finish 71.\n",
      "Finish 72.\n",
      "Finish 73.\n",
      "Finish 74.\n",
      "Finish 75.\n",
      "Finish 76.\n",
      "Finish 77.\n",
      "Finish 78.\n",
      "Finish 79.\n",
      "Finish 80.\n",
      "Finish 81.\n",
      "Finish 82.\n",
      "Finish 83.\n",
      "Finish 84.\n",
      "Finish 85.\n",
      "Finish 86.\n",
      "Finish 87.\n",
      "Finish 88.\n",
      "Finish 89.\n",
      "Finish 90.\n",
      "Finish 91.\n",
      "Finish 92.\n",
      "Finish 93.\n",
      "Finish 94.\n",
      "Finish 95.\n",
      "Finish 96.\n",
      "Finish 97.\n",
      "Finish 98.\n",
      "Finish 99.\n",
      "Over!\n"
     ]
    }
   ],
   "source": [
    "steps = 100\n",
    "for i in range(steps):\n",
    "    fake_imgs = sample_unconditional_model(model, steps)\n",
    "    results = (fake_imgs[:, [2, 1, 0]] + 1.) / 2.\n",
    "    for j in range(steps): \n",
    "        imgpath = 'mspie_gen_' + str(i*100+j) + '.png'\n",
    "        filepath = os.path.join('mspie_stylegan2_img', imgpath)\n",
    "        utils.save_image(results[j], filepath, nrow=1, padding=0)\n",
    "    print(f'Finish {i}.')\n",
    "print(f'Over!')"
   ]
  },
  {
   "cell_type": "markdown",
   "metadata": {},
   "source": [
    "# CycleGAN\n",
    "image to image translation model"
   ]
  },
  {
   "cell_type": "code",
   "execution_count": 30,
   "metadata": {},
   "outputs": [
    {
     "name": "stdout",
     "output_type": "stream",
     "text": [
      "load checkpoint from local path: checkpoint/cyclegan_summer2winter.pth\n"
     ]
    }
   ],
   "source": [
    "config_file = 'mmgeneration/configs/cyclegan/cyclegan_lsgan_id0_resnet_in_summer2winter_b1x1_250k.py'\n",
    "checkpoint_file = 'checkpoint/cyclegan_summer2winter.pth'\n",
    "# Specify the path to image you want to translate\n",
    "image_path = 'datasets/mspie_stylegan2_img/mspie_gen_9978.png'\n",
    "device = 'cuda:0'\n",
    "# init a generatvie\n",
    "model = init_model(config_file, checkpoint_file, device=device)\n",
    "# translate a single image\n",
    "translated_image = sample_img2img_model(model, image_path)"
   ]
  },
  {
   "cell_type": "code",
   "execution_count": 31,
   "metadata": {},
   "outputs": [],
   "source": [
    "results = (translated_image[:, [2, 1, 0]] + 1.) / 2.\n",
    "utils.save_image(results, 'new.png')"
   ]
  },
  {
   "cell_type": "code",
   "execution_count": 8,
   "metadata": {},
   "outputs": [],
   "source": [
    "raw = cv2.imread('datasets/stylegan_img/style_gen_2.png')\n",
    "tran = cv2.imread('new.png')"
   ]
  },
  {
   "cell_type": "code",
   "execution_count": 26,
   "metadata": {},
   "outputs": [],
   "source": [
    "aa = (tran-raw>=60)[:,:,0]+(tran-raw>=60)[:,:,1]+(tran-raw>=60)[:,:,2]"
   ]
  },
  {
   "cell_type": "code",
   "execution_count": 27,
   "metadata": {},
   "outputs": [
    {
     "data": {
      "text/plain": [
       "True"
      ]
     },
     "execution_count": 27,
     "metadata": {},
     "output_type": "execute_result"
    }
   ],
   "source": [
    "cv2.imwrite('disddd.png',255*aa)"
   ]
  },
  {
   "cell_type": "code",
   "execution_count": null,
   "metadata": {},
   "outputs": [],
   "source": []
  },
  {
   "cell_type": "markdown",
   "metadata": {},
   "source": [
    "# Generate binary mask "
   ]
  },
  {
   "cell_type": "code",
   "execution_count": 34,
   "metadata": {},
   "outputs": [
    {
     "data": {
      "text/plain": [
       "True"
      ]
     },
     "execution_count": 34,
     "metadata": {},
     "output_type": "execute_result"
    }
   ],
   "source": [
    "real = np.zeros((256,256,3))\n",
    "cv2.imwrite('real.png',real)\n",
    "\n",
    "fake = np.ones((256,256,3))\n",
    "cv2.imwrite('fake.png',255*fake)"
   ]
  },
  {
   "cell_type": "code",
   "execution_count": null,
   "metadata": {},
   "outputs": [],
   "source": []
  },
  {
   "cell_type": "code",
   "execution_count": null,
   "metadata": {},
   "outputs": [],
   "source": []
  },
  {
   "cell_type": "markdown",
   "metadata": {},
   "source": [
    "# Crop & Seg"
   ]
  },
  {
   "cell_type": "code",
   "execution_count": 9,
   "metadata": {},
   "outputs": [],
   "source": [
    "import cv2\n",
    "import mediapipe as mp\n",
    "import numpy as np\n",
    "mp_drawing = mp.solutions.drawing_utils\n",
    "mp_selfie_segmentation = mp.solutions.selfie_segmentation\n",
    "\n",
    "# For static images:\n",
    "IMAGE_FILES = ['stylegan_img/style_gen_9999.png']\n",
    "BG_COLOR = (192, 192, 192) # gray\n",
    "MASK_COLOR = (255, 255, 255) # white\n",
    "with mp_selfie_segmentation.SelfieSegmentation(\n",
    "    model_selection=0) as selfie_segmentation:\n",
    "  for idx, file in enumerate(IMAGE_FILES):\n",
    "    image = cv2.imread(file)\n",
    "    image_height, image_width, _ = image.shape\n",
    "    # Convert the BGR image to RGB before processing.\n",
    "    results = selfie_segmentation.process(cv2.cvtColor(image, cv2.COLOR_BGR2RGB))\n",
    "\n",
    "    # Draw selfie segmentation on the background image.\n",
    "    # To improve segmentation around boundaries, consider applying a joint\n",
    "    # bilateral filter to \"results.segmentation_mask\" with \"image\".\n",
    "    condition = np.stack((results.segmentation_mask,) * 3, axis=-1) > 0.1\n",
    "    # Generate solid color images for showing the output selfie segmentation mask.\n",
    "    fg_image = np.zeros(image.shape, dtype=np.uint8)\n",
    "    # fg_image[:] = MASK_COLOR\n",
    "    fg_image = image\n",
    "    bg_image = np.zeros(image.shape, dtype=np.uint8)\n",
    "    bg_image[:] = BG_COLOR\n",
    "    output_image = np.where(condition, fg_image, bg_image)\n",
    "    cv2.imwrite('seg' + str(idx) + '.png', output_image)\n"
   ]
  },
  {
   "cell_type": "code",
   "execution_count": null,
   "metadata": {},
   "outputs": [],
   "source": []
  },
  {
   "cell_type": "code",
   "execution_count": null,
   "metadata": {},
   "outputs": [],
   "source": []
  }
 ],
 "metadata": {
  "interpreter": {
   "hash": "365435dd8aee978e9ccc8582ad31feca76cbadee7477ed27d917e68efd87c849"
  },
  "kernelspec": {
   "display_name": "Python 3.9.7 64-bit ('base': conda)",
   "name": "python3"
  },
  "language_info": {
   "codemirror_mode": {
    "name": "ipython",
    "version": 3
   },
   "file_extension": ".py",
   "mimetype": "text/x-python",
   "name": "python",
   "nbconvert_exporter": "python",
   "pygments_lexer": "ipython3",
   "version": "3.9.7"
  },
  "orig_nbformat": 4
 },
 "nbformat": 4,
 "nbformat_minor": 2
}
